{
  "nbformat": 4,
  "nbformat_minor": 0,
  "metadata": {
    "colab": {
      "name": "Steel_Faults.ipynb",
      "provenance": [],
      "authorship_tag": "ABX9TyOBcXQjNNbZeUtI3m2JLliH",
      "include_colab_link": true
    },
    "kernelspec": {
      "name": "python3",
      "display_name": "Python 3"
    }
  },
  "cells": [
    {
      "cell_type": "markdown",
      "metadata": {
        "id": "view-in-github",
        "colab_type": "text"
      },
      "source": [
        "<a href=\"https://colab.research.google.com/github/amipanes/dec/blob/master/Steel_Faults.ipynb\" target=\"_parent\"><img src=\"https://colab.research.google.com/assets/colab-badge.svg\" alt=\"Open In Colab\"/></a>"
      ]
    },
    {
      "cell_type": "code",
      "metadata": {
        "id": "XXOJtsafY6bx",
        "colab_type": "code",
        "colab": {
          "base_uri": "https://localhost:8080/",
          "height": 224
        },
        "outputId": "00471054-dc06-4201-a91b-a958479c89f0"
      },
      "source": [
        "# linear algebra\n",
        "import numpy as np \n",
        "\n",
        "# data processing\n",
        "import pandas as pd \n",
        "\n",
        "# data visualization\n",
        "import seaborn as sns\n",
        "%matplotlib inline\n",
        "from matplotlib import pyplot as plt\n",
        "from matplotlib import style\n",
        "\n",
        "# Algorithms\n",
        "from sklearn import linear_model\n",
        "\n",
        "from sklearn import preprocessing\n",
        "from sklearn.linear_model import LogisticRegression\n",
        "from sklearn.ensemble import RandomForestClassifier\n",
        "from sklearn.linear_model import Perceptron\n",
        "from sklearn.linear_model import SGDClassifier\n",
        "from sklearn.tree import DecisionTreeClassifier\n",
        "from sklearn.neighbors import KNeighborsClassifier\n",
        "from sklearn.svm import SVC, LinearSVC\n",
        "from sklearn.naive_bayes import GaussianNB\n",
        "import numpy as np\n",
        "from sklearn.metrics import accuracy_score\n",
        "from sklearn.metrics import classification_report\n",
        "from sklearn.ensemble import RandomForestClassifier\n",
        "import pandas as pd\n",
        "import matplotlib.pyplot as plt\n",
        "from sklearn.preprocessing import MinMaxScaler\n",
        "\n",
        "path_to_steel = '/content/steel_faults.csv'\n",
        "df = pd.read_csv(path_to_steel)\n",
        "df.head(5)"
      ],
      "execution_count": 36,
      "outputs": [
        {
          "output_type": "execute_result",
          "data": {
            "text/html": [
              "<div>\n",
              "<style scoped>\n",
              "    .dataframe tbody tr th:only-of-type {\n",
              "        vertical-align: middle;\n",
              "    }\n",
              "\n",
              "    .dataframe tbody tr th {\n",
              "        vertical-align: top;\n",
              "    }\n",
              "\n",
              "    .dataframe thead th {\n",
              "        text-align: right;\n",
              "    }\n",
              "</style>\n",
              "<table border=\"1\" class=\"dataframe\">\n",
              "  <thead>\n",
              "    <tr style=\"text-align: right;\">\n",
              "      <th></th>\n",
              "      <th>X_Minimum</th>\n",
              "      <th>X_Maximum</th>\n",
              "      <th>Y_Minimum</th>\n",
              "      <th>Y_Maximum</th>\n",
              "      <th>Pixels_Areas</th>\n",
              "      <th>X_Perimeter</th>\n",
              "      <th>Y_Perimeter</th>\n",
              "      <th>Sum_of_Luminosity</th>\n",
              "      <th>Minimum_of_Luminosity</th>\n",
              "      <th>Maximum_of_Luminosity</th>\n",
              "      <th>Length_of_Conveyer</th>\n",
              "      <th>TypeOfSteel_A300</th>\n",
              "      <th>TypeOfSteel_A400</th>\n",
              "      <th>Steel_Plate_Thickness</th>\n",
              "      <th>Edges_Index</th>\n",
              "      <th>Empty_Index</th>\n",
              "      <th>Square_Index</th>\n",
              "      <th>Outside_X_Index</th>\n",
              "      <th>Edges_X_Index</th>\n",
              "      <th>Edges_Y_Index</th>\n",
              "      <th>Outside_Global_Index</th>\n",
              "      <th>LogOfAreas</th>\n",
              "      <th>Log_X_Index</th>\n",
              "      <th>Log_Y_Index</th>\n",
              "      <th>Orientation_Index</th>\n",
              "      <th>Luminosity_Index</th>\n",
              "      <th>SigmoidOfAreas</th>\n",
              "      <th>Pastry</th>\n",
              "      <th>Z_Scratch</th>\n",
              "      <th>K_Scatch</th>\n",
              "      <th>Stains</th>\n",
              "      <th>Dirtiness</th>\n",
              "      <th>Bumps</th>\n",
              "      <th>Other_Faults</th>\n",
              "    </tr>\n",
              "  </thead>\n",
              "  <tbody>\n",
              "    <tr>\n",
              "      <th>0</th>\n",
              "      <td>42</td>\n",
              "      <td>50</td>\n",
              "      <td>270900</td>\n",
              "      <td>270944</td>\n",
              "      <td>267</td>\n",
              "      <td>17</td>\n",
              "      <td>44</td>\n",
              "      <td>24220</td>\n",
              "      <td>76</td>\n",
              "      <td>108</td>\n",
              "      <td>1687</td>\n",
              "      <td>1</td>\n",
              "      <td>0</td>\n",
              "      <td>80</td>\n",
              "      <td>0.0498</td>\n",
              "      <td>0.2415</td>\n",
              "      <td>0.1818</td>\n",
              "      <td>0.0047</td>\n",
              "      <td>0.4706</td>\n",
              "      <td>1.0000</td>\n",
              "      <td>1.0</td>\n",
              "      <td>2.4265</td>\n",
              "      <td>0.9031</td>\n",
              "      <td>1.6435</td>\n",
              "      <td>0.8182</td>\n",
              "      <td>-0.2913</td>\n",
              "      <td>0.5822</td>\n",
              "      <td>1</td>\n",
              "      <td>0</td>\n",
              "      <td>0</td>\n",
              "      <td>0</td>\n",
              "      <td>0</td>\n",
              "      <td>0</td>\n",
              "      <td>0</td>\n",
              "    </tr>\n",
              "    <tr>\n",
              "      <th>1</th>\n",
              "      <td>645</td>\n",
              "      <td>651</td>\n",
              "      <td>2538079</td>\n",
              "      <td>2538108</td>\n",
              "      <td>108</td>\n",
              "      <td>10</td>\n",
              "      <td>30</td>\n",
              "      <td>11397</td>\n",
              "      <td>84</td>\n",
              "      <td>123</td>\n",
              "      <td>1687</td>\n",
              "      <td>1</td>\n",
              "      <td>0</td>\n",
              "      <td>80</td>\n",
              "      <td>0.7647</td>\n",
              "      <td>0.3793</td>\n",
              "      <td>0.2069</td>\n",
              "      <td>0.0036</td>\n",
              "      <td>0.6000</td>\n",
              "      <td>0.9667</td>\n",
              "      <td>1.0</td>\n",
              "      <td>2.0334</td>\n",
              "      <td>0.7782</td>\n",
              "      <td>1.4624</td>\n",
              "      <td>0.7931</td>\n",
              "      <td>-0.1756</td>\n",
              "      <td>0.2984</td>\n",
              "      <td>1</td>\n",
              "      <td>0</td>\n",
              "      <td>0</td>\n",
              "      <td>0</td>\n",
              "      <td>0</td>\n",
              "      <td>0</td>\n",
              "      <td>0</td>\n",
              "    </tr>\n",
              "    <tr>\n",
              "      <th>2</th>\n",
              "      <td>829</td>\n",
              "      <td>835</td>\n",
              "      <td>1553913</td>\n",
              "      <td>1553931</td>\n",
              "      <td>71</td>\n",
              "      <td>8</td>\n",
              "      <td>19</td>\n",
              "      <td>7972</td>\n",
              "      <td>99</td>\n",
              "      <td>125</td>\n",
              "      <td>1623</td>\n",
              "      <td>1</td>\n",
              "      <td>0</td>\n",
              "      <td>100</td>\n",
              "      <td>0.9710</td>\n",
              "      <td>0.3426</td>\n",
              "      <td>0.3333</td>\n",
              "      <td>0.0037</td>\n",
              "      <td>0.7500</td>\n",
              "      <td>0.9474</td>\n",
              "      <td>1.0</td>\n",
              "      <td>1.8513</td>\n",
              "      <td>0.7782</td>\n",
              "      <td>1.2553</td>\n",
              "      <td>0.6667</td>\n",
              "      <td>-0.1228</td>\n",
              "      <td>0.2150</td>\n",
              "      <td>1</td>\n",
              "      <td>0</td>\n",
              "      <td>0</td>\n",
              "      <td>0</td>\n",
              "      <td>0</td>\n",
              "      <td>0</td>\n",
              "      <td>0</td>\n",
              "    </tr>\n",
              "    <tr>\n",
              "      <th>3</th>\n",
              "      <td>853</td>\n",
              "      <td>860</td>\n",
              "      <td>369370</td>\n",
              "      <td>369415</td>\n",
              "      <td>176</td>\n",
              "      <td>13</td>\n",
              "      <td>45</td>\n",
              "      <td>18996</td>\n",
              "      <td>99</td>\n",
              "      <td>126</td>\n",
              "      <td>1353</td>\n",
              "      <td>0</td>\n",
              "      <td>1</td>\n",
              "      <td>290</td>\n",
              "      <td>0.7287</td>\n",
              "      <td>0.4413</td>\n",
              "      <td>0.1556</td>\n",
              "      <td>0.0052</td>\n",
              "      <td>0.5385</td>\n",
              "      <td>1.0000</td>\n",
              "      <td>1.0</td>\n",
              "      <td>2.2455</td>\n",
              "      <td>0.8451</td>\n",
              "      <td>1.6532</td>\n",
              "      <td>0.8444</td>\n",
              "      <td>-0.1568</td>\n",
              "      <td>0.5212</td>\n",
              "      <td>1</td>\n",
              "      <td>0</td>\n",
              "      <td>0</td>\n",
              "      <td>0</td>\n",
              "      <td>0</td>\n",
              "      <td>0</td>\n",
              "      <td>0</td>\n",
              "    </tr>\n",
              "    <tr>\n",
              "      <th>4</th>\n",
              "      <td>1289</td>\n",
              "      <td>1306</td>\n",
              "      <td>498078</td>\n",
              "      <td>498335</td>\n",
              "      <td>2409</td>\n",
              "      <td>60</td>\n",
              "      <td>260</td>\n",
              "      <td>246930</td>\n",
              "      <td>37</td>\n",
              "      <td>126</td>\n",
              "      <td>1353</td>\n",
              "      <td>0</td>\n",
              "      <td>1</td>\n",
              "      <td>185</td>\n",
              "      <td>0.0695</td>\n",
              "      <td>0.4486</td>\n",
              "      <td>0.0662</td>\n",
              "      <td>0.0126</td>\n",
              "      <td>0.2833</td>\n",
              "      <td>0.9885</td>\n",
              "      <td>1.0</td>\n",
              "      <td>3.3818</td>\n",
              "      <td>1.2305</td>\n",
              "      <td>2.4099</td>\n",
              "      <td>0.9338</td>\n",
              "      <td>-0.1992</td>\n",
              "      <td>1.0000</td>\n",
              "      <td>1</td>\n",
              "      <td>0</td>\n",
              "      <td>0</td>\n",
              "      <td>0</td>\n",
              "      <td>0</td>\n",
              "      <td>0</td>\n",
              "      <td>0</td>\n",
              "    </tr>\n",
              "  </tbody>\n",
              "</table>\n",
              "</div>"
            ],
            "text/plain": [
              "   X_Minimum  X_Maximum  Y_Minimum  ...  Dirtiness  Bumps  Other_Faults\n",
              "0         42         50     270900  ...          0      0             0\n",
              "1        645        651    2538079  ...          0      0             0\n",
              "2        829        835    1553913  ...          0      0             0\n",
              "3        853        860     369370  ...          0      0             0\n",
              "4       1289       1306     498078  ...          0      0             0\n",
              "\n",
              "[5 rows x 34 columns]"
            ]
          },
          "metadata": {
            "tags": []
          },
          "execution_count": 36
        }
      ]
    },
    {
      "cell_type": "code",
      "metadata": {
        "id": "DX4b9B2p7LFS",
        "colab_type": "code",
        "colab": {
          "base_uri": "https://localhost:8080/",
          "height": 34
        },
        "outputId": "2acdb3c5-09ad-40c6-8818-b5ca5c58b5ea"
      },
      "source": [
        "path_to_steel = '/content/steel_faults.csv'\n",
        "df = pd.read_csv(path_to_steel)\n",
        "df.isnull().values.any()"
      ],
      "execution_count": 28,
      "outputs": [
        {
          "output_type": "execute_result",
          "data": {
            "text/plain": [
              "False"
            ]
          },
          "metadata": {
            "tags": []
          },
          "execution_count": 28
        }
      ]
    },
    {
      "cell_type": "code",
      "metadata": {
        "id": "MurFJXp8ztNe",
        "colab_type": "code",
        "colab": {}
      },
      "source": [
        "from sklearn import datasets, linear_model\n",
        "from sklearn.model_selection import cross_validate\n",
        "from sklearn.metrics.scorer import make_scorer\n",
        "from sklearn.metrics import confusion_matrix\n",
        "from sklearn.svm import LinearSVC\n",
        "import numpy as np\n",
        "from sklearn.metrics import accuracy_score\n",
        "from sklearn.metrics import classification_report\n",
        "from sklearn.model_selection import train_test_split\n",
        "\n",
        "import pandas as pd\n",
        "from sklearn.preprocessing import MinMaxScaler\n",
        "from sklearn.decomposition import PCA\n",
        "\n",
        "import seaborn as sns\n",
        "import plotly as py\n",
        "import matplotlib.pyplot as plt\n",
        "import plotly.graph_objs as go\n",
        "import warnings\n",
        "warnings.filterwarnings(\"ignore\")\n",
        "\n",
        "from sklearn.linear_model import LogisticRegression as LR\n",
        "from sklearn.tree import DecisionTreeClassifier as DTC\n",
        "from sklearn.metrics import accuracy_score\n",
        "from sklearn.neighbors import KNeighborsClassifier as KNC\n",
        "from sklearn.ensemble import RandomForestClassifier as RF\n",
        "\n",
        "from sklearn import preprocessing\n",
        "from sklearn.preprocessing import StandardScaler\n",
        "from sklearn.model_selection import GridSearchCV \n"
      ],
      "execution_count": 29,
      "outputs": []
    },
    {
      "cell_type": "code",
      "metadata": {
        "id": "DJdPKEhIzuhj",
        "colab_type": "code",
        "colab": {
          "base_uri": "https://localhost:8080/",
          "height": 317
        },
        "outputId": "ca27b306-fb2c-415d-9ad8-aef17d478452"
      },
      "source": [
        "display(df.describe(include=\"all\"))"
      ],
      "execution_count": null,
      "outputs": [
        {
          "output_type": "display_data",
          "data": {
            "text/html": [
              "<div>\n",
              "<style scoped>\n",
              "    .dataframe tbody tr th:only-of-type {\n",
              "        vertical-align: middle;\n",
              "    }\n",
              "\n",
              "    .dataframe tbody tr th {\n",
              "        vertical-align: top;\n",
              "    }\n",
              "\n",
              "    .dataframe thead th {\n",
              "        text-align: right;\n",
              "    }\n",
              "</style>\n",
              "<table border=\"1\" class=\"dataframe\">\n",
              "  <thead>\n",
              "    <tr style=\"text-align: right;\">\n",
              "      <th></th>\n",
              "      <th>X_Minimum</th>\n",
              "      <th>X_Maximum</th>\n",
              "      <th>Y_Minimum</th>\n",
              "      <th>Y_Maximum</th>\n",
              "      <th>Pixels_Areas</th>\n",
              "      <th>X_Perimeter</th>\n",
              "      <th>Y_Perimeter</th>\n",
              "      <th>Sum_of_Luminosity</th>\n",
              "      <th>Minimum_of_Luminosity</th>\n",
              "      <th>Maximum_of_Luminosity</th>\n",
              "      <th>Length_of_Conveyer</th>\n",
              "      <th>TypeOfSteel_A300</th>\n",
              "      <th>TypeOfSteel_A400</th>\n",
              "      <th>Steel_Plate_Thickness</th>\n",
              "      <th>Edges_Index</th>\n",
              "      <th>Empty_Index</th>\n",
              "      <th>Square_Index</th>\n",
              "      <th>Outside_X_Index</th>\n",
              "      <th>Edges_X_Index</th>\n",
              "      <th>Edges_Y_Index</th>\n",
              "      <th>Outside_Global_Index</th>\n",
              "      <th>LogOfAreas</th>\n",
              "      <th>Log_X_Index</th>\n",
              "      <th>Log_Y_Index</th>\n",
              "      <th>Orientation_Index</th>\n",
              "      <th>Luminosity_Index</th>\n",
              "      <th>SigmoidOfAreas</th>\n",
              "      <th>Pastry</th>\n",
              "      <th>Z_Scratch</th>\n",
              "      <th>K_Scatch</th>\n",
              "      <th>Stains</th>\n",
              "      <th>Dirtiness</th>\n",
              "      <th>Bumps</th>\n",
              "      <th>Other_Faults</th>\n",
              "    </tr>\n",
              "  </thead>\n",
              "  <tbody>\n",
              "    <tr>\n",
              "      <th>count</th>\n",
              "      <td>1941.000000</td>\n",
              "      <td>1941.000000</td>\n",
              "      <td>1.941000e+03</td>\n",
              "      <td>1.941000e+03</td>\n",
              "      <td>1941.000000</td>\n",
              "      <td>1941.000000</td>\n",
              "      <td>1941.000000</td>\n",
              "      <td>1.941000e+03</td>\n",
              "      <td>1941.000000</td>\n",
              "      <td>1941.000000</td>\n",
              "      <td>1941.000000</td>\n",
              "      <td>1941.000000</td>\n",
              "      <td>1941.000000</td>\n",
              "      <td>1941.000000</td>\n",
              "      <td>1941.000000</td>\n",
              "      <td>1941.000000</td>\n",
              "      <td>1941.000000</td>\n",
              "      <td>1941.000000</td>\n",
              "      <td>1941.000000</td>\n",
              "      <td>1941.000000</td>\n",
              "      <td>1941.000000</td>\n",
              "      <td>1941.000000</td>\n",
              "      <td>1941.000000</td>\n",
              "      <td>1941.000000</td>\n",
              "      <td>1941.000000</td>\n",
              "      <td>1941.000000</td>\n",
              "      <td>1941.000000</td>\n",
              "      <td>1941.000000</td>\n",
              "      <td>1941.000000</td>\n",
              "      <td>1941.000000</td>\n",
              "      <td>1941.000000</td>\n",
              "      <td>1941.000000</td>\n",
              "      <td>1941.000000</td>\n",
              "      <td>1941.000000</td>\n",
              "    </tr>\n",
              "    <tr>\n",
              "      <th>mean</th>\n",
              "      <td>571.136012</td>\n",
              "      <td>617.964451</td>\n",
              "      <td>1.650685e+06</td>\n",
              "      <td>1.650739e+06</td>\n",
              "      <td>1893.878413</td>\n",
              "      <td>111.855229</td>\n",
              "      <td>82.965997</td>\n",
              "      <td>2.063121e+05</td>\n",
              "      <td>84.548686</td>\n",
              "      <td>130.193715</td>\n",
              "      <td>1459.160227</td>\n",
              "      <td>0.400309</td>\n",
              "      <td>0.599691</td>\n",
              "      <td>78.737764</td>\n",
              "      <td>0.331715</td>\n",
              "      <td>0.414203</td>\n",
              "      <td>0.570767</td>\n",
              "      <td>0.033361</td>\n",
              "      <td>0.610529</td>\n",
              "      <td>0.813472</td>\n",
              "      <td>0.575734</td>\n",
              "      <td>2.492388</td>\n",
              "      <td>1.335686</td>\n",
              "      <td>1.403271</td>\n",
              "      <td>0.083288</td>\n",
              "      <td>-0.131305</td>\n",
              "      <td>0.585420</td>\n",
              "      <td>0.081401</td>\n",
              "      <td>0.097888</td>\n",
              "      <td>0.201443</td>\n",
              "      <td>0.037094</td>\n",
              "      <td>0.028336</td>\n",
              "      <td>0.207110</td>\n",
              "      <td>0.346728</td>\n",
              "    </tr>\n",
              "    <tr>\n",
              "      <th>std</th>\n",
              "      <td>520.690671</td>\n",
              "      <td>497.627410</td>\n",
              "      <td>1.774578e+06</td>\n",
              "      <td>1.774590e+06</td>\n",
              "      <td>5168.459560</td>\n",
              "      <td>301.209187</td>\n",
              "      <td>426.482879</td>\n",
              "      <td>5.122936e+05</td>\n",
              "      <td>32.134276</td>\n",
              "      <td>18.690992</td>\n",
              "      <td>144.577823</td>\n",
              "      <td>0.490087</td>\n",
              "      <td>0.490087</td>\n",
              "      <td>55.086032</td>\n",
              "      <td>0.299712</td>\n",
              "      <td>0.137261</td>\n",
              "      <td>0.271058</td>\n",
              "      <td>0.058961</td>\n",
              "      <td>0.243277</td>\n",
              "      <td>0.234274</td>\n",
              "      <td>0.482352</td>\n",
              "      <td>0.788930</td>\n",
              "      <td>0.481612</td>\n",
              "      <td>0.454345</td>\n",
              "      <td>0.500868</td>\n",
              "      <td>0.148767</td>\n",
              "      <td>0.339452</td>\n",
              "      <td>0.273521</td>\n",
              "      <td>0.297239</td>\n",
              "      <td>0.401181</td>\n",
              "      <td>0.189042</td>\n",
              "      <td>0.165973</td>\n",
              "      <td>0.405339</td>\n",
              "      <td>0.476051</td>\n",
              "    </tr>\n",
              "    <tr>\n",
              "      <th>min</th>\n",
              "      <td>0.000000</td>\n",
              "      <td>4.000000</td>\n",
              "      <td>6.712000e+03</td>\n",
              "      <td>6.724000e+03</td>\n",
              "      <td>2.000000</td>\n",
              "      <td>2.000000</td>\n",
              "      <td>1.000000</td>\n",
              "      <td>2.500000e+02</td>\n",
              "      <td>0.000000</td>\n",
              "      <td>37.000000</td>\n",
              "      <td>1227.000000</td>\n",
              "      <td>0.000000</td>\n",
              "      <td>0.000000</td>\n",
              "      <td>40.000000</td>\n",
              "      <td>0.000000</td>\n",
              "      <td>0.000000</td>\n",
              "      <td>0.008300</td>\n",
              "      <td>0.001500</td>\n",
              "      <td>0.014400</td>\n",
              "      <td>0.048400</td>\n",
              "      <td>0.000000</td>\n",
              "      <td>0.301000</td>\n",
              "      <td>0.301000</td>\n",
              "      <td>0.000000</td>\n",
              "      <td>-0.991000</td>\n",
              "      <td>-0.998900</td>\n",
              "      <td>0.119000</td>\n",
              "      <td>0.000000</td>\n",
              "      <td>0.000000</td>\n",
              "      <td>0.000000</td>\n",
              "      <td>0.000000</td>\n",
              "      <td>0.000000</td>\n",
              "      <td>0.000000</td>\n",
              "      <td>0.000000</td>\n",
              "    </tr>\n",
              "    <tr>\n",
              "      <th>25%</th>\n",
              "      <td>51.000000</td>\n",
              "      <td>192.000000</td>\n",
              "      <td>4.712530e+05</td>\n",
              "      <td>4.712810e+05</td>\n",
              "      <td>84.000000</td>\n",
              "      <td>15.000000</td>\n",
              "      <td>13.000000</td>\n",
              "      <td>9.522000e+03</td>\n",
              "      <td>63.000000</td>\n",
              "      <td>124.000000</td>\n",
              "      <td>1358.000000</td>\n",
              "      <td>0.000000</td>\n",
              "      <td>0.000000</td>\n",
              "      <td>40.000000</td>\n",
              "      <td>0.060400</td>\n",
              "      <td>0.315800</td>\n",
              "      <td>0.361300</td>\n",
              "      <td>0.006600</td>\n",
              "      <td>0.411800</td>\n",
              "      <td>0.596800</td>\n",
              "      <td>0.000000</td>\n",
              "      <td>1.924300</td>\n",
              "      <td>1.000000</td>\n",
              "      <td>1.079200</td>\n",
              "      <td>-0.333300</td>\n",
              "      <td>-0.195000</td>\n",
              "      <td>0.248200</td>\n",
              "      <td>0.000000</td>\n",
              "      <td>0.000000</td>\n",
              "      <td>0.000000</td>\n",
              "      <td>0.000000</td>\n",
              "      <td>0.000000</td>\n",
              "      <td>0.000000</td>\n",
              "      <td>0.000000</td>\n",
              "    </tr>\n",
              "    <tr>\n",
              "      <th>50%</th>\n",
              "      <td>435.000000</td>\n",
              "      <td>467.000000</td>\n",
              "      <td>1.204128e+06</td>\n",
              "      <td>1.204136e+06</td>\n",
              "      <td>174.000000</td>\n",
              "      <td>26.000000</td>\n",
              "      <td>25.000000</td>\n",
              "      <td>1.920200e+04</td>\n",
              "      <td>90.000000</td>\n",
              "      <td>127.000000</td>\n",
              "      <td>1364.000000</td>\n",
              "      <td>0.000000</td>\n",
              "      <td>1.000000</td>\n",
              "      <td>70.000000</td>\n",
              "      <td>0.227300</td>\n",
              "      <td>0.412100</td>\n",
              "      <td>0.555600</td>\n",
              "      <td>0.010100</td>\n",
              "      <td>0.636400</td>\n",
              "      <td>0.947400</td>\n",
              "      <td>1.000000</td>\n",
              "      <td>2.240600</td>\n",
              "      <td>1.176100</td>\n",
              "      <td>1.322200</td>\n",
              "      <td>0.095200</td>\n",
              "      <td>-0.133000</td>\n",
              "      <td>0.506300</td>\n",
              "      <td>0.000000</td>\n",
              "      <td>0.000000</td>\n",
              "      <td>0.000000</td>\n",
              "      <td>0.000000</td>\n",
              "      <td>0.000000</td>\n",
              "      <td>0.000000</td>\n",
              "      <td>0.000000</td>\n",
              "    </tr>\n",
              "    <tr>\n",
              "      <th>75%</th>\n",
              "      <td>1053.000000</td>\n",
              "      <td>1072.000000</td>\n",
              "      <td>2.183073e+06</td>\n",
              "      <td>2.183084e+06</td>\n",
              "      <td>822.000000</td>\n",
              "      <td>84.000000</td>\n",
              "      <td>83.000000</td>\n",
              "      <td>8.301100e+04</td>\n",
              "      <td>106.000000</td>\n",
              "      <td>140.000000</td>\n",
              "      <td>1650.000000</td>\n",
              "      <td>1.000000</td>\n",
              "      <td>1.000000</td>\n",
              "      <td>80.000000</td>\n",
              "      <td>0.573800</td>\n",
              "      <td>0.501600</td>\n",
              "      <td>0.818200</td>\n",
              "      <td>0.023500</td>\n",
              "      <td>0.800000</td>\n",
              "      <td>1.000000</td>\n",
              "      <td>1.000000</td>\n",
              "      <td>2.914900</td>\n",
              "      <td>1.518500</td>\n",
              "      <td>1.732400</td>\n",
              "      <td>0.511600</td>\n",
              "      <td>-0.066600</td>\n",
              "      <td>0.999800</td>\n",
              "      <td>0.000000</td>\n",
              "      <td>0.000000</td>\n",
              "      <td>0.000000</td>\n",
              "      <td>0.000000</td>\n",
              "      <td>0.000000</td>\n",
              "      <td>0.000000</td>\n",
              "      <td>1.000000</td>\n",
              "    </tr>\n",
              "    <tr>\n",
              "      <th>max</th>\n",
              "      <td>1705.000000</td>\n",
              "      <td>1713.000000</td>\n",
              "      <td>1.298766e+07</td>\n",
              "      <td>1.298769e+07</td>\n",
              "      <td>152655.000000</td>\n",
              "      <td>10449.000000</td>\n",
              "      <td>18152.000000</td>\n",
              "      <td>1.159141e+07</td>\n",
              "      <td>203.000000</td>\n",
              "      <td>253.000000</td>\n",
              "      <td>1794.000000</td>\n",
              "      <td>1.000000</td>\n",
              "      <td>1.000000</td>\n",
              "      <td>300.000000</td>\n",
              "      <td>0.995200</td>\n",
              "      <td>0.943900</td>\n",
              "      <td>1.000000</td>\n",
              "      <td>0.875900</td>\n",
              "      <td>1.000000</td>\n",
              "      <td>1.000000</td>\n",
              "      <td>1.000000</td>\n",
              "      <td>5.183700</td>\n",
              "      <td>3.074100</td>\n",
              "      <td>4.258700</td>\n",
              "      <td>0.991700</td>\n",
              "      <td>0.642100</td>\n",
              "      <td>1.000000</td>\n",
              "      <td>1.000000</td>\n",
              "      <td>1.000000</td>\n",
              "      <td>1.000000</td>\n",
              "      <td>1.000000</td>\n",
              "      <td>1.000000</td>\n",
              "      <td>1.000000</td>\n",
              "      <td>1.000000</td>\n",
              "    </tr>\n",
              "  </tbody>\n",
              "</table>\n",
              "</div>"
            ],
            "text/plain": [
              "         X_Minimum    X_Maximum  ...        Bumps  Other_Faults\n",
              "count  1941.000000  1941.000000  ...  1941.000000   1941.000000\n",
              "mean    571.136012   617.964451  ...     0.207110      0.346728\n",
              "std     520.690671   497.627410  ...     0.405339      0.476051\n",
              "min       0.000000     4.000000  ...     0.000000      0.000000\n",
              "25%      51.000000   192.000000  ...     0.000000      0.000000\n",
              "50%     435.000000   467.000000  ...     0.000000      0.000000\n",
              "75%    1053.000000  1072.000000  ...     0.000000      1.000000\n",
              "max    1705.000000  1713.000000  ...     1.000000      1.000000\n",
              "\n",
              "[8 rows x 34 columns]"
            ]
          },
          "metadata": {
            "tags": []
          }
        }
      ]
    },
    {
      "cell_type": "code",
      "metadata": {
        "id": "FIdlGigs0IQn",
        "colab_type": "code",
        "colab": {
          "base_uri": "https://localhost:8080/",
          "height": 741
        },
        "outputId": "c7e973a9-a962-47a1-9656-7985a2ddc457"
      },
      "source": [
        "sns.set(rc={'figure.figsize':(12,10)})\n",
        "corr = df.corr()\n",
        "sns.heatmap(corr, xticklabels=corr.columns.values,yticklabels=corr.columns.values)"
      ],
      "execution_count": null,
      "outputs": [
        {
          "output_type": "execute_result",
          "data": {
            "text/plain": [
              "<matplotlib.axes._subplots.AxesSubplot at 0x7f8f1c15de10>"
            ]
          },
          "metadata": {
            "tags": []
          },
          "execution_count": 11
        },
        {
          "output_type": "display_data",
          "data": {
            "image/png": "[encoded data removed]",
            "text/plain": [
              "<Figure size 864x720 with 2 Axes>"
            ]
          },
          "metadata": {
            "tags": []
          }
        }
      ]
    },
    {
      "cell_type": "code",
      "metadata": {
        "id": "a01qWyU70Upp",
        "colab_type": "code",
        "colab": {
          "base_uri": "https://localhost:8080/",
          "height": 1000
        },
        "outputId": "a49fb3fc-66bd-47b0-baa1-648509cafaaf"
      },
      "source": [
        "df.hist(figsize=(20,20))\n",
        "plt.show()"
      ],
      "execution_count": null,
      "outputs": [
        {
          "output_type": "display_data",
          "data": {
            "image/png": "[encoded data removed]",
            "text/plain": [
              "<Figure size 1440x1440 with 36 Axes>"
            ]
          },
          "metadata": {
            "tags": []
          }
        }
      ]
    },
    {
      "cell_type": "code",
      "metadata": {
        "id": "t_hM0cR-0hoE",
        "colab_type": "code",
        "colab": {}
      },
      "source": [
        "X1 = df.values\n",
        "y_dataframe = df[[\"Pastry\",\"Z_Scratch\",\"K_Scatch\",\"Stains\",\"Dirtiness\",\"Bumps\",\"Other_Faults\"]]\n",
        "features = X1[:,0:27]\n",
        "x = pd.DataFrame(features)"
      ],
      "execution_count": 38,
      "outputs": []
    },
    {
      "cell_type": "code",
      "metadata": {
        "id": "N3OFNQSzyDOm",
        "colab_type": "code",
        "colab": {}
      },
      "source": [
        "x = pd.DataFrame(features)"
      ],
      "execution_count": 44,
      "outputs": []
    },
    {
      "cell_type": "code",
      "metadata": {
        "id": "JYG3i-YQ0qLQ",
        "colab_type": "code",
        "colab": {
          "base_uri": "https://localhost:8080/",
          "height": 255
        },
        "outputId": "bec2eea7-45c4-41c2-861b-8692605f9923"
      },
      "source": [
        "y_dataframe.info()"
      ],
      "execution_count": null,
      "outputs": [
        {
          "output_type": "stream",
          "text": [
            "<class 'pandas.core.frame.DataFrame'>\n",
            "RangeIndex: 1941 entries, 0 to 1940\n",
            "Data columns (total 7 columns):\n",
            " #   Column        Non-Null Count  Dtype\n",
            "---  ------        --------------  -----\n",
            " 0   Pastry        1941 non-null   int64\n",
            " 1   Z_Scratch     1941 non-null   int64\n",
            " 2   K_Scatch      1941 non-null   int64\n",
            " 3   Stains        1941 non-null   int64\n",
            " 4   Dirtiness     1941 non-null   int64\n",
            " 5   Bumps         1941 non-null   int64\n",
            " 6   Other_Faults  1941 non-null   int64\n",
            "dtypes: int64(7)\n",
            "memory usage: 106.3 KB\n"
          ],
          "name": "stdout"
        }
      ]
    },
    {
      "cell_type": "code",
      "metadata": {
        "id": "hh84F-vI03C6",
        "colab_type": "code",
        "colab": {}
      },
      "source": [
        "y = []\n",
        "for i in range(y_dataframe.shape[0]):\n",
        "    if y_dataframe[\"Pastry\"].values[i] == 1:\n",
        "        y.append(\"Pastry\")\n",
        "    elif y_dataframe[\"Z_Scratch\"].values[i] == 1:\n",
        "        y.append(\"Z_Scratch\")\n",
        "    elif y_dataframe[\"K_Scatch\"].values[i] == 1:\n",
        "        y.append(\"K_Scatch\")\n",
        "    elif y_dataframe[\"Stains\"].values[i] == 1:\n",
        "        y.append(\"Stains\")\n",
        "    elif y_dataframe[\"Dirtiness\"].values[i] == 1:\n",
        "        y.append(\"Dirtiness\")\n",
        "    elif y_dataframe[\"Bumps\"].values[i] == 1:\n",
        "        y.append(\"Bumps\")\n",
        "    else:\n",
        "        y.append(\"Other_Faults\")"
      ],
      "execution_count": 48,
      "outputs": []
    },
    {
      "cell_type": "code",
      "metadata": {
        "id": "2grx84CoCmtl",
        "colab_type": "code",
        "colab": {}
      },
      "source": [
        "y=np.array(y)"
      ],
      "execution_count": 49,
      "outputs": []
    },
    {
      "cell_type": "code",
      "metadata": {
        "id": "IX4QIVUU08nd",
        "colab_type": "code",
        "colab": {
          "base_uri": "https://localhost:8080/",
          "height": 34
        },
        "outputId": "abfe5cbd-c0d2-4867-b37e-7528f9147176"
      },
      "source": [
        "y.shape"
      ],
      "execution_count": 50,
      "outputs": [
        {
          "output_type": "execute_result",
          "data": {
            "text/plain": [
              "(1941,)"
            ]
          },
          "metadata": {
            "tags": []
          },
          "execution_count": 50
        }
      ]
    },
    {
      "cell_type": "code",
      "metadata": {
        "id": "dMXnTZ3ODoA3",
        "colab_type": "code",
        "colab": {}
      },
      "source": [
        "# output of faults from y np array\n",
        "import pandas as pd\n",
        "import numpy as np\n",
        "q = pd.DataFrame({\"faults\":y})\n",
        "print (q)\n",
        "q.to_csv('steel_faults6.csv')"
      ],
      "execution_count": null,
      "outputs": []
    },
    {
      "cell_type": "code",
      "metadata": {
        "id": "RocWVDR9Nn0c",
        "colab_type": "code",
        "colab": {
          "base_uri": "https://localhost:8080/",
          "height": 255
        },
        "outputId": "66afe15e-a495-4ae9-b971-af943fb5c49f"
      },
      "source": [
        "print(q)"
      ],
      "execution_count": null,
      "outputs": [
        {
          "output_type": "stream",
          "text": [
            "            faults\n",
            "0           Pastry\n",
            "1           Pastry\n",
            "2           Pastry\n",
            "3           Pastry\n",
            "4           Pastry\n",
            "...            ...\n",
            "1936  Other_Faults\n",
            "1937  Other_Faults\n",
            "1938  Other_Faults\n",
            "1939  Other_Faults\n",
            "1940  Other_Faults\n",
            "\n",
            "[1941 rows x 1 columns]\n"
          ],
          "name": "stdout"
        }
      ]
    },
    {
      "cell_type": "code",
      "metadata": {
        "id": "wf0OH4pugY8Y",
        "colab_type": "code",
        "colab": {}
      },
      "source": [
        "# add new column to original dataset called fault_label\n",
        "df = pd.read_csv('steel_faults.csv')\n",
        "df['Fault_label'] = ''\n",
        "df.to_csv('steel_faults2.csv')"
      ],
      "execution_count": null,
      "outputs": []
    },
    {
      "cell_type": "code",
      "metadata": {
        "id": "ej9ApF-aeeRd",
        "colab_type": "code",
        "colab": {}
      },
      "source": [
        "# adds the faults-label in single column\n",
        "df = pd.read_csv('steel_faults5.csv')\n",
        "df['Fault_label'] = faultstype[\"faults\"].values\n",
        "df.to_csv('steel_faults6.csv')"
      ],
      "execution_count": null,
      "outputs": []
    },
    {
      "cell_type": "code",
      "metadata": {
        "id": "TSjanrSdN7_i",
        "colab_type": "code",
        "colab": {}
      },
      "source": [
        "# categorise the faults\n",
        "import pandas as pd\n",
        "import numpy as np\n",
        "from sklearn.preprocessing import LabelEncoder\n",
        "# creating initial dataframe\n",
        "faults = ('Pastry','Z_Scratch','K_Scatch','Stains','Dirtiness','Bumps','Other_Faults')\n",
        "faults_df = pd.DataFrame(faults, columns=['faults'])\n",
        "# creating instance of labelencoder\n",
        "labelencoder = LabelEncoder()\n",
        "\n",
        "# converting type of columns to 'category'\n",
        "faults_df['faults'] = faults_df['faults'].astype('category')\n",
        "\n",
        "\n",
        "# Assigning numerical values and storing in another column\n",
        "faults_df['Fault_types_Cat']= labelencoder.fit_transform(faults_df['faults'])\n",
        "faults_df\n",
        "faults_df.to_csv('steel_faults7.csv')"
      ],
      "execution_count": null,
      "outputs": []
    },
    {
      "cell_type": "code",
      "metadata": {
        "id": "gOgRrgCvT2jq",
        "colab_type": "code",
        "colab": {
          "base_uri": "https://localhost:8080/",
          "height": 34
        },
        "outputId": "ecbe9c8b-b16c-40eb-9b57-8ab7b69381e0"
      },
      "source": [
        "# Create a dictionary using the values above\n",
        "# will remap the values\n",
        "import pandas as pd\n",
        "df = pd.read_csv('/content/steel_faults4.csv')\n",
        "dict = {'Pastry' : 4 , 'Z_Scratch' : 6, 'K_Scatch': 2, 'Stains' : 5, 'Dirtiness' : 1,'Bumps' : 0, 'Other_Faults' : 3} \n",
        "  \n",
        "# Print the dictionary \n",
        "print(dict) \n",
        "  \n",
        "# Remap the values of the dataframe\n",
        "df['Fault_label']= df['Fault_label'].map(dict) \n",
        " \n",
        "df.to_csv('steel_faults8.csv')"
      ],
      "execution_count": null,
      "outputs": [
        {
          "output_type": "stream",
          "text": [
            "{'Pastry': 4, 'Z_Scratch': 6, 'K_Scatch': 2, 'Stains': 5, 'Dirtiness': 1, 'Bumps': 0, 'Other_Faults': 3}\n"
          ],
          "name": "stdout"
        }
      ]
    },
    {
      "cell_type": "code",
      "metadata": {
        "id": "lYJpIJUla-dY",
        "colab_type": "code",
        "colab": {}
      },
      "source": [
        "# dropping original hot encoding labels\n",
        "df = pd.read_csv('/content/steel_faults8.csv')\n",
        "cols = [29,30,31,32,33,34,35]\n",
        "df.drop(df.columns[cols],axis=1,inplace=True)\n",
        "df.to_csv('steel_faults9.csv')"
      ],
      "execution_count": null,
      "outputs": []
    },
    {
      "cell_type": "code",
      "metadata": {
        "id": "K0HbecERVHPA",
        "colab_type": "code",
        "colab": {}
      },
      "source": [
        "# moves fault_labels to front and removes the header as in steel faults 5\n",
        "df = pd.read_csv('/content/steel_faults9.csv')\n",
        "fault = df['Fault_label']\n",
        "df.drop(labels=['Fault_label'], axis=1,inplace = True)\n",
        "df.insert(0, 'Fault_label', fault)\n",
        "df.to_csv('steel_faults10.csv',header = False, index = False)"
      ],
      "execution_count": null,
      "outputs": []
    },
    {
      "cell_type": "code",
      "metadata": {
        "id": "KPEY3QIxdR6C",
        "colab_type": "code",
        "colab": {}
      },
      "source": [
        "# delete the unnamed columns\n",
        "df = pd.read_csv('/content/steel_faults10.csv')\n",
        "cols = [1,2,3]\n",
        "df.drop(df.columns[cols],axis=1,inplace=True)\n",
        "df.to_csv('steel_faultsa.csv')"
      ],
      "execution_count": null,
      "outputs": []
    },
    {
      "cell_type": "code",
      "metadata": {
        "id": "3HvZphT6vzB2",
        "colab_type": "code",
        "colab": {}
      },
      "source": [
        "#importing libraries to do some feature selection\n",
        "from sklearn.datasets import load_boston\n",
        "import pandas as pd\n",
        "import numpy as np\n",
        "import matplotlib\n",
        "import matplotlib.pyplot as plt\n",
        "import seaborn as sns\n",
        "import statsmodels.api as sm\n",
        "%matplotlib inline\n",
        "from sklearn.model_selection import train_test_split\n",
        "from sklearn.linear_model import LinearRegression\n",
        "from sklearn.feature_selection import RFE\n",
        "from sklearn.linear_model import RidgeCV, LassoCV, Ridge, Lasso\n",
        "#Loading the dataset\n",
        "#x = load_boston()\n",
        "#df = pd.DataFrame(x.data, columns = x.feature_names)\n",
        "#df[\"MEDV\"] = x.target\n",
        "y = y_dataframe     #Target Variable\n",
        "x = pd.DataFrame(features)\n",
        "#no of features\n",
        "nof_list=np.arange(7,1358)            \n",
        "high_score=0\n",
        "#Variable to store the optimum features\n",
        "nof=0           \n",
        "score_list =[]\n",
        "for n in range(len(nof_list)):\n",
        "    X_train, X_test, y_train, y_test = train_test_split(x,y, test_size = 0.3, random_state = 0)\n",
        "    model = LinearRegression()\n",
        "    rfe = RFE(model,nof_list[n])\n",
        "    X_train_rfe = rfe.fit_transform(X_train,y_train)\n",
        "    X_test_rfe = rfe.transform(X_test)\n",
        "    model.fit(X_train_rfe,y_train)\n",
        "    score = model.score(X_test_rfe,y_test)\n",
        "    score_list.append(score)\n",
        "    if(score>high_score):\n",
        "        high_score = score\n",
        "        nof = nof_list[n]\n",
        "print(\"Optimum number of features: %d\" %nof)\n",
        "print(\"Score with %d features: %f\" % (nof, high_score))"
      ],
      "execution_count": null,
      "outputs": []
    },
    {
      "cell_type": "code",
      "metadata": {
        "id": "IptH63241GEH",
        "colab_type": "code",
        "colab": {
          "base_uri": "https://localhost:8080/",
          "height": 622
        },
        "outputId": "734c751c-b4cc-4a75-b00a-4b7ce9ad5b7f"
      },
      "source": [
        "sns.set(rc={'figure.figsize':(12,10)})\n",
        "corr = y_dataframe.corr()\n",
        "sns.heatmap(corr, xticklabels=corr.columns.values,yticklabels=corr.columns.values)"
      ],
      "execution_count": null,
      "outputs": [
        {
          "output_type": "execute_result",
          "data": {
            "text/plain": [
              "<matplotlib.axes._subplots.AxesSubplot at 0x7ff92481bb00>"
            ]
          },
          "metadata": {
            "tags": []
          },
          "execution_count": 128
        },
        {
          "output_type": "display_data",
          "data": {
            "image/png": "[encoded data removed]",
            "text/plain": [
              "<Figure size 864x720 with 2 Axes>"
            ]
          },
          "metadata": {
            "tags": []
          }
        }
      ]
    },
    {
      "cell_type": "code",
      "metadata": {
        "id": "dyeEw4F41SPX",
        "colab_type": "code",
        "colab": {}
      },
      "source": [
        "fig, ax=plt.subplots(1,2,figsize=(20,8))\n",
        "\n",
        "faultstype['faults'].value_counts().plot.pie(ax=ax[0])\n",
        "sns.countplot(x='faults', data=faultstype, ax=ax[1])"
      ],
      "execution_count": null,
      "outputs": []
    },
    {
      "cell_type": "code",
      "metadata": {
        "id": "XnBsTfzp1HTa",
        "colab_type": "code",
        "colab": {}
      },
      "source": [
        "sc=StandardScaler()\n",
        "X=sc.fit_transform(x)"
      ],
      "execution_count": 46,
      "outputs": []
    },
    {
      "cell_type": "code",
      "metadata": {
        "id": "deJm85bD1eTB",
        "colab_type": "code",
        "colab": {}
      },
      "source": [
        "x_train, x_test, y_train, y_test = train_test_split(X, y, test_size = 0.50, random_state = 42)"
      ],
      "execution_count": 62,
      "outputs": []
    },
    {
      "cell_type": "code",
      "metadata": {
        "id": "MhZJYZkw-_Wa",
        "colab_type": "code",
        "colab": {}
      },
      "source": [
        "from numpy.random import RandomState\n",
        "import pandas as pd\n",
        "\n",
        "df = pd.read_csv('/content/steel_faultsa.csv')\n",
        "\n",
        "train = df.sample(frac=0.5, random_state=42)\n",
        "test = df.loc[~df.index.isin(train.index)]\n",
        "\n",
        "train.to_csv('steel_faults_train.csv')\n",
        "test.to_csv('steel_faults_test.csv')"
      ],
      "execution_count": null,
      "outputs": []
    },
    {
      "cell_type": "code",
      "metadata": {
        "id": "Y_8Pdalv1gyr",
        "colab_type": "code",
        "colab": {
          "base_uri": "https://localhost:8080/",
          "height": 51
        },
        "outputId": "aa5168c9-01f0-4bed-877e-159e7a8fb3cf"
      },
      "source": [
        "pca=PCA(10)\n",
        "pca.fit(x_test)\n",
        "pca.explained_variance_ratio_"
      ],
      "execution_count": 52,
      "outputs": [
        {
          "output_type": "execute_result",
          "data": {
            "text/plain": [
              "array([0.30476441, 0.14616096, 0.11182199, 0.07974027, 0.06714925,\n",
              "       0.05728127, 0.05302463, 0.03905959, 0.03041487, 0.02995745])"
            ]
          },
          "metadata": {
            "tags": []
          },
          "execution_count": 52
        }
      ]
    },
    {
      "cell_type": "code",
      "metadata": {
        "id": "-ltnthm81lX-",
        "colab_type": "code",
        "colab": {}
      },
      "source": [
        "\n",
        "pca_train=pca.transform(x_train)\n",
        "pca_test=pca.transform(x_test)\n",
        "pca_train=x_train\n",
        "pca_test=x_test\n"
      ],
      "execution_count": 65,
      "outputs": []
    },
    {
      "cell_type": "code",
      "metadata": {
        "id": "ZuzL1Lr411ws",
        "colab_type": "code",
        "colab": {}
      },
      "source": [
        "pca_score= np.zeros(6)\n",
        "pca_accuracy= np.zeros(6)"
      ],
      "execution_count": 54,
      "outputs": []
    },
    {
      "cell_type": "code",
      "metadata": {
        "id": "_Ybxa1SC1xzr",
        "colab_type": "code",
        "colab": {}
      },
      "source": [
        "Logistic_Regression = LR().fit(pca_train,y_train)\n",
        "pca_score[0]=Logistic_Regression.score(pca_train,y_train)\n",
        "predictions_LR = Logistic_Regression.predict(pca_test)\n",
        "pca_accuracy[0]=accuracy_score(y_test, predictions_LR)\n",
        "pca_accuracy[0]"
      ],
      "execution_count": null,
      "outputs": []
    },
    {
      "cell_type": "code",
      "metadata": {
        "id": "_hXhFsCbheo_",
        "colab_type": "code",
        "colab": {
          "base_uri": "https://localhost:8080/",
          "height": 136
        },
        "outputId": "227f4393-d3e7-4f24-cd43-c6a7e3dee000"
      },
      "source": [
        "from sklearn.metrics import confusion_matrix\n",
        "confusion_matrix = confusion_matrix(y_test, predictions_LR)\n",
        "print (confusion_matrix)"
      ],
      "execution_count": 79,
      "outputs": [
        {
          "output_type": "stream",
          "text": [
            "[[108   0   0  63   8   0   2]\n",
            " [  1  17   0   8   2   0   0]\n",
            " [  1   0 188   8   2   2   0]\n",
            " [ 57   6   7 232  31   3  11]\n",
            " [  7   2   2  17  41   0   1]\n",
            " [  1   0   0   2   0  32   0]\n",
            " [  7   1   1   8   1   0  91]]\n"
          ],
          "name": "stdout"
        }
      ]
    },
    {
      "cell_type": "code",
      "metadata": {
        "id": "Lizra-RYiVkS",
        "colab_type": "code",
        "colab": {}
      },
      "source": [
        "print (predictions_LR)"
      ],
      "execution_count": null,
      "outputs": []
    },
    {
      "cell_type": "code",
      "metadata": {
        "id": "1KqbG7pr19R4",
        "colab_type": "code",
        "colab": {}
      },
      "source": [
        "Decision_Tree_Classifier = DTC().fit(pca_train,y_train)\n",
        "pca_score[1]=Decision_Tree_Classifier.score(pca_train,y_train)\n",
        "predictions_DTC = Decision_Tree_Classifier.predict(pca_test)\n",
        "pca_accuracy[1]=accuracy_score(y_test, predictions_DTC)\n",
        "pca_score[1]"
      ],
      "execution_count": null,
      "outputs": []
    },
    {
      "cell_type": "code",
      "metadata": {
        "id": "VUfIKqTV2GwK",
        "colab_type": "code",
        "colab": {}
      },
      "source": [
        "K_Neighbors_Classifier = KNC(8).fit(pca_train,y_train)\n",
        "pca_score[3]=K_Neighbors_Classifier.score(pca_train,y_train)\n",
        "predictions_KNC = K_Neighbors_Classifier.predict(pca_test)\n",
        "pca_accuracy[3]=accuracy_score(y_test, predictions_KNC)"
      ],
      "execution_count": null,
      "outputs": []
    },
    {
      "cell_type": "code",
      "metadata": {
        "id": "U0oCfBMkQ_Gn",
        "colab_type": "code",
        "colab": {}
      },
      "source": [
        "#attemting to convert csv into lib svm\n",
        "!python csvlibsvm.py steel_faults_train.csv libsvm.data 28 false"
      ],
      "execution_count": null,
      "outputs": []
    },
    {
      "cell_type": "code",
      "metadata": {
        "id": "5R4pmrHFLk-r",
        "colab_type": "code",
        "colab": {
          "base_uri": "https://localhost:8080/",
          "height": 1000
        },
        "outputId": "735f079f-d141-469d-f700-c5aec7e64ccf"
      },
      "source": [
        "help(np.loadtxt)"
      ],
      "execution_count": null,
      "outputs": [
        {
          "output_type": "stream",
          "text": [
            "Help on function loadtxt in module numpy:\n",
            "\n",
            "loadtxt(fname, dtype=<class 'float'>, comments='#', delimiter=None, converters=None, skiprows=0, usecols=None, unpack=False, ndmin=0, encoding='bytes', max_rows=None)\n",
            "    Load data from a text file.\n",
            "    \n",
            "    Each row in the text file must have the same number of values.\n",
            "    \n",
            "    Parameters\n",
            "    ----------\n",
            "    fname : file, str, or pathlib.Path\n",
            "        File, filename, or generator to read.  If the filename extension is\n",
            "        ``.gz`` or ``.bz2``, the file is first decompressed. Note that\n",
            "        generators should return byte strings.\n",
            "    dtype : data-type, optional\n",
            "        Data-type of the resulting array; default: float.  If this is a\n",
            "        structured data-type, the resulting array will be 1-dimensional, and\n",
            "        each row will be interpreted as an element of the array.  In this\n",
            "        case, the number of columns used must match the number of fields in\n",
            "        the data-type.\n",
            "    comments : str or sequence of str, optional\n",
            "        The characters or list of characters used to indicate the start of a\n",
            "        comment. None implies no comments. For backwards compatibility, byte\n",
            "        strings will be decoded as 'latin1'. The default is '#'.\n",
            "    delimiter : str, optional\n",
            "        The string used to separate values. For backwards compatibility, byte\n",
            "        strings will be decoded as 'latin1'. The default is whitespace.\n",
            "    converters : dict, optional\n",
            "        A dictionary mapping column number to a function that will parse the\n",
            "        column string into the desired value.  E.g., if column 0 is a date\n",
            "        string: ``converters = {0: datestr2num}``.  Converters can also be\n",
            "        used to provide a default value for missing data (but see also\n",
            "        `genfromtxt`): ``converters = {3: lambda s: float(s.strip() or 0)}``.\n",
            "        Default: None.\n",
            "    skiprows : int, optional\n",
            "        Skip the first `skiprows` lines, including comments; default: 0.\n",
            "    usecols : int or sequence, optional\n",
            "        Which columns to read, with 0 being the first. For example,\n",
            "        ``usecols = (1,4,5)`` will extract the 2nd, 5th and 6th columns.\n",
            "        The default, None, results in all columns being read.\n",
            "    \n",
            "        .. versionchanged:: 1.11.0\n",
            "            When a single column has to be read it is possible to use\n",
            "            an integer instead of a tuple. E.g ``usecols = 3`` reads the\n",
            "            fourth column the same way as ``usecols = (3,)`` would.\n",
            "    unpack : bool, optional\n",
            "        If True, the returned array is transposed, so that arguments may be\n",
            "        unpacked using ``x, y, z = loadtxt(...)``.  When used with a structured\n",
            "        data-type, arrays are returned for each field.  Default is False.\n",
            "    ndmin : int, optional\n",
            "        The returned array will have at least `ndmin` dimensions.\n",
            "        Otherwise mono-dimensional axes will be squeezed.\n",
            "        Legal values: 0 (default), 1 or 2.\n",
            "    \n",
            "        .. versionadded:: 1.6.0\n",
            "    encoding : str, optional\n",
            "        Encoding used to decode the inputfile. Does not apply to input streams.\n",
            "        The special value 'bytes' enables backward compatibility workarounds\n",
            "        that ensures you receive byte arrays as results if possible and passes\n",
            "        'latin1' encoded strings to converters. Override this value to receive\n",
            "        unicode arrays and pass strings as input to converters.  If set to None\n",
            "        the system default is used. The default value is 'bytes'.\n",
            "    \n",
            "        .. versionadded:: 1.14.0\n",
            "    max_rows : int, optional\n",
            "        Read `max_rows` lines of content after `skiprows` lines. The default\n",
            "        is to read all the lines.\n",
            "    \n",
            "        .. versionadded:: 1.16.0\n",
            "    \n",
            "    Returns\n",
            "    -------\n",
            "    out : ndarray\n",
            "        Data read from the text file.\n",
            "    \n",
            "    See Also\n",
            "    --------\n",
            "    load, fromstring, fromregex\n",
            "    genfromtxt : Load data with missing values handled as specified.\n",
            "    scipy.io.loadmat : reads MATLAB data files\n",
            "    \n",
            "    Notes\n",
            "    -----\n",
            "    This function aims to be a fast reader for simply formatted files.  The\n",
            "    `genfromtxt` function provides more sophisticated handling of, e.g.,\n",
            "    lines with missing values.\n",
            "    \n",
            "    .. versionadded:: 1.10.0\n",
            "    \n",
            "    The strings produced by the Python float.hex method can be used as\n",
            "    input for floats.\n",
            "    \n",
            "    Examples\n",
            "    --------\n",
            "    >>> from io import StringIO   # StringIO behaves like a file object\n",
            "    >>> c = StringIO(u\"0 1\\n2 3\")\n",
            "    >>> np.loadtxt(c)\n",
            "    array([[0., 1.],\n",
            "           [2., 3.]])\n",
            "    \n",
            "    >>> d = StringIO(u\"M 21 72\\nF 35 58\")\n",
            "    >>> np.loadtxt(d, dtype={'names': ('gender', 'age', 'weight'),\n",
            "    ...                      'formats': ('S1', 'i4', 'f4')})\n",
            "    array([(b'M', 21, 72.), (b'F', 35, 58.)],\n",
            "          dtype=[('gender', 'S1'), ('age', '<i4'), ('weight', '<f4')])\n",
            "    \n",
            "    >>> c = StringIO(u\"1,0,2\\n3,0,4\")\n",
            "    >>> x, y = np.loadtxt(c, delimiter=',', usecols=(0, 2), unpack=True)\n",
            "    >>> x\n",
            "    array([1., 3.])\n",
            "    >>> y\n",
            "    array([2., 4.])\n",
            "\n"
          ],
          "name": "stdout"
        }
      ]
    },
    {
      "cell_type": "code",
      "metadata": {
        "id": "LqdkF-0aLqcs",
        "colab_type": "code",
        "colab": {}
      },
      "source": [
        "df = pd.read_csv('/content/steel_faults_train.csv')\n",
        "np.loadtxt(df)"
      ],
      "execution_count": null,
      "outputs": []
    },
    {
      "cell_type": "code",
      "metadata": {
        "id": "-mUvRu3cE9x9",
        "colab_type": "code",
        "colab": {}
      },
      "source": [
        "#confusion matrix\n",
        "y_pred= y_train\n",
        "y_true= pca_test\n",
        "from sklearn.metrics import confusion_matrix\n",
        "cm=confusion_matrix(y_true,pca_test)\n",
        "cm\n"
      ],
      "execution_count": null,
      "outputs": []
    },
    {
      "cell_type": "code",
      "metadata": {
        "id": "zXsyi3vkdfZk",
        "colab_type": "code",
        "colab": {}
      },
      "source": [
        "# Confusion Matrix\n",
        "y_pred= y_train\n",
        "y_true= pca_test\n",
        "from sklearn.metrics import confusion_matrix\n",
        "confusion_matrix(y_true, y_pred)\n",
        "# Accuracy\n",
        "from sklearn.metrics import accuracy_score\n",
        "accuracy_score(y_true, y_pred)\n",
        "# Recall\n",
        "from sklearn.metrics import recall_score\n",
        "recall_score(y_true, y_pred, average=None)\n",
        "# Precision\n",
        "from sklearn.metrics import precision_score\n",
        "precision_score(y_true, y_pred, average=None)"
      ],
      "execution_count": null,
      "outputs": []
    }
  ]
}